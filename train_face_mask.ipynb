{
 "cells": [
  {
   "cell_type": "code",
   "execution_count": 9,
   "id": "imperial-charm",
   "metadata": {},
   "outputs": [],
   "source": [
    "from tensorflow.keras.preprocessing.image import ImageDataGenerator\n",
    "from tensorflow.keras.applications import MobileNetV2\n",
    "from tensorflow.keras.layers import AveragePooling2D\n",
    "from tensorflow.keras.layers import Dropout\n",
    "from tensorflow.keras.layers import Flatten\n",
    "from tensorflow.keras.layers import Dense\n",
    "from tensorflow.keras.layers import Input\n",
    "from tensorflow.keras.models import Model\n",
    "from tensorflow.keras.optimizers import Adam\n",
    "from tensorflow.keras.applications.mobilenet_v2 import preprocess_input\n",
    "from tensorflow.keras.preprocessing.image import img_to_array\n",
    "from tensorflow.keras.preprocessing.image import load_img\n",
    "from tensorflow.keras.utils import to_categorical\n",
    "from sklearn.preprocessing import LabelBinarizer\n",
    "from sklearn.model_selection import train_test_split\n",
    "from sklearn.metrics import classification_report\n",
    "from imutils import paths\n",
    "import matplotlib.pyplot as plt\n",
    "import numpy as np\n",
    "import os"
   ]
  },
  {
   "cell_type": "code",
   "execution_count": 10,
   "id": "impossible-wheel",
   "metadata": {},
   "outputs": [],
   "source": [
    "INIT_LR = 1e-4\n",
    "EPOCHS = 20\n",
    "BS = 32\n",
    "\n",
    "DIRECTORY = r\"C:\\Users\\Rishu Pal\\Desktop\\coding\\ML\\dataset-mask\\data\"\n",
    "CATEGORIES = [\"with_mask\", \"without_mask\"]"
   ]
  },
  {
   "cell_type": "code",
   "execution_count": 11,
   "id": "moved-chapel",
   "metadata": {},
   "outputs": [
    {
     "name": "stdout",
     "output_type": "stream",
     "text": [
      "[INFO] loading images...\n"
     ]
    }
   ],
   "source": [
    "print(\"[INFO] loading images...\")"
   ]
  },
  {
   "cell_type": "code",
   "execution_count": 12,
   "id": "peripheral-mineral",
   "metadata": {},
   "outputs": [],
   "source": [
    "\n",
    "data = []\n",
    "labels = []"
   ]
  },
  {
   "cell_type": "code",
   "execution_count": 13,
   "id": "raising-prompt",
   "metadata": {},
   "outputs": [],
   "source": [
    "for category in CATEGORIES:\n",
    "    path = os.path.join(DIRECTORY, category)\n",
    "    for img in os.listdir(path):\n",
    "    \timg_path = os.path.join(path, img)\n",
    "    \timage = load_img(img_path, target_size=(224, 224))\n",
    "    \timage = img_to_array(image)\n",
    "    \timage = preprocess_input(image)\n",
    "\n",
    "    \tdata.append(image)\n",
    "    \tlabels.append(category)"
   ]
  },
  {
   "cell_type": "code",
   "execution_count": 14,
   "id": "virgin-flush",
   "metadata": {},
   "outputs": [],
   "source": [
    "lb = LabelBinarizer()\n",
    "labels = lb.fit_transform(labels)\n",
    "labels = to_categorical(labels)\n"
   ]
  },
  {
   "cell_type": "code",
   "execution_count": 15,
   "id": "terminal-scenario",
   "metadata": {},
   "outputs": [],
   "source": [
    "data = np.array(data, dtype=\"float32\")\n",
    "labels = np.array(labels)"
   ]
  },
  {
   "cell_type": "code",
   "execution_count": 16,
   "id": "cheap-cylinder",
   "metadata": {},
   "outputs": [],
   "source": [
    "(trainX, testX, trainY, testY) = train_test_split(data, labels,\n",
    "\ttest_size=0.20, stratify=labels, random_state=42)"
   ]
  },
  {
   "cell_type": "code",
   "execution_count": 17,
   "id": "indirect-edgar",
   "metadata": {},
   "outputs": [],
   "source": [
    "# construct the training image generator for data augmentation\n",
    "aug = ImageDataGenerator(\n",
    "\trotation_range=20,\n",
    "\tzoom_range=0.15,\n",
    "\twidth_shift_range=0.2,\n",
    "\theight_shift_range=0.2,\n",
    "\tshear_range=0.15,\n",
    "\thorizontal_flip=True,\n",
    "\tfill_mode=\"nearest\")\n"
   ]
  },
  {
   "cell_type": "code",
   "execution_count": 18,
   "id": "particular-photographer",
   "metadata": {},
   "outputs": [
    {
     "name": "stdout",
     "output_type": "stream",
     "text": [
      "WARNING:tensorflow:`input_shape` is undefined or non-square, or `rows` is not in [96, 128, 160, 192, 224]. Weights for input shape (224, 224) will be loaded as the default.\n"
     ]
    }
   ],
   "source": [
    "# load the MobileNetV2 network, ensuring the head FC layer sets are\n",
    "# left off\n",
    "baseModel = MobileNetV2(weights=\"imagenet\" , include_top=False,\n",
    "\tinput_tensor=Input(shape=(224, 224, 3)))"
   ]
  },
  {
   "cell_type": "code",
   "execution_count": 19,
   "id": "latter-lewis",
   "metadata": {},
   "outputs": [],
   "source": [
    "# construct the head of the model that will be placed on top of the\n",
    "# the base model\n",
    "headModel = baseModel.output\n",
    "headModel = AveragePooling2D(pool_size=(7, 7))(headModel)\n",
    "headModel = Flatten(name=\"flatten\")(headModel)\n",
    "headModel = Dense(128, activation=\"relu\")(headModel)\n",
    "headModel = Dropout(0.5)(headModel)\n",
    "headModel = Dense(2, activation=\"softmax\")(headModel)"
   ]
  },
  {
   "cell_type": "code",
   "execution_count": 20,
   "id": "headed-shoulder",
   "metadata": {},
   "outputs": [],
   "source": [
    "# place the head FC model on top of the base model (this will become\n",
    "# the actual model we will train)\n",
    "model = Model(inputs=baseModel.input, outputs=headModel)"
   ]
  },
  {
   "cell_type": "code",
   "execution_count": 21,
   "id": "competitive-hurricane",
   "metadata": {},
   "outputs": [
    {
     "name": "stdout",
     "output_type": "stream",
     "text": [
      "[INFO] compiling model...\n"
     ]
    }
   ],
   "source": [
    "\n",
    "# loop over all layers in the base model and freeze them so they will\n",
    "# *not* be updated during the first training process\n",
    "for layer in baseModel.layers:\n",
    "\tlayer.trainable = False\n",
    "\n",
    "# compile our model lr= learning rate\n",
    "print(\"[INFO] compiling model...\")\n",
    "opt = Adam(lr=INIT_LR, decay=INIT_LR / EPOCHS)\n",
    "model.compile(loss=\"binary_crossentropy\", optimizer=opt,\n",
    "\tmetrics=[\"accuracy\"])\n"
   ]
  },
  {
   "cell_type": "code",
   "execution_count": 23,
   "id": "accomplished-suggestion",
   "metadata": {},
   "outputs": [
    {
     "name": "stdout",
     "output_type": "stream",
     "text": [
      "[INFO] training head...\n",
      "Epoch 1/20\n",
      "43/43 [==============================] - 113s 3s/step - loss: 0.4098 - accuracy: 0.8188 - val_loss: 0.1423 - val_accuracy: 0.9688\n",
      "Epoch 2/20\n",
      "43/43 [==============================] - 100s 2s/step - loss: 0.1527 - accuracy: 0.9476 - val_loss: 0.0747 - val_accuracy: 0.9830\n",
      "Epoch 3/20\n",
      "43/43 [==============================] - 93s 2s/step - loss: 0.0914 - accuracy: 0.9709 - val_loss: 0.0488 - val_accuracy: 0.9858\n",
      "Epoch 4/20\n",
      "43/43 [==============================] - 87s 2s/step - loss: 0.0636 - accuracy: 0.9796 - val_loss: 0.0371 - val_accuracy: 0.9886\n",
      "Epoch 5/20\n",
      "43/43 [==============================] - 101s 2s/step - loss: 0.0598 - accuracy: 0.9774 - val_loss: 0.0321 - val_accuracy: 0.9915\n",
      "Epoch 6/20\n",
      "43/43 [==============================] - 158s 4s/step - loss: 0.0458 - accuracy: 0.9913 - val_loss: 0.0286 - val_accuracy: 0.9915\n",
      "Epoch 7/20\n",
      "43/43 [==============================] - 101s 2s/step - loss: 0.0467 - accuracy: 0.9840 - val_loss: 0.0265 - val_accuracy: 0.9886\n",
      "Epoch 8/20\n",
      "43/43 [==============================] - 32016s 745s/step - loss: 0.0328 - accuracy: 0.9905 - val_loss: 0.0242 - val_accuracy: 0.9886\n",
      "Epoch 9/20\n",
      "43/43 [==============================] - 59s 1s/step - loss: 0.0332 - accuracy: 0.9884 - val_loss: 0.0232 - val_accuracy: 0.9915\n",
      "Epoch 10/20\n",
      "43/43 [==============================] - 104s 2s/step - loss: 0.0324 - accuracy: 0.9876 - val_loss: 0.0214 - val_accuracy: 0.9886\n",
      "Epoch 11/20\n",
      "43/43 [==============================] - 103s 2s/step - loss: 0.0279 - accuracy: 0.9927 - val_loss: 0.0199 - val_accuracy: 0.9886\n",
      "Epoch 12/20\n",
      "43/43 [==============================] - 101s 2s/step - loss: 0.0263 - accuracy: 0.9934 - val_loss: 0.0190 - val_accuracy: 0.9915\n",
      "Epoch 13/20\n",
      "43/43 [==============================] - 94s 2s/step - loss: 0.0247 - accuracy: 0.9905 - val_loss: 0.0186 - val_accuracy: 0.9915\n",
      "Epoch 14/20\n",
      "43/43 [==============================] - 97s 2s/step - loss: 0.0267 - accuracy: 0.9905 - val_loss: 0.0182 - val_accuracy: 0.9915\n",
      "Epoch 15/20\n",
      "43/43 [==============================] - 95s 2s/step - loss: 0.0172 - accuracy: 0.9956 - val_loss: 0.0187 - val_accuracy: 0.9972\n",
      "Epoch 16/20\n",
      "43/43 [==============================] - 95s 2s/step - loss: 0.0164 - accuracy: 0.9964 - val_loss: 0.0209 - val_accuracy: 0.9886\n",
      "Epoch 17/20\n",
      "43/43 [==============================] - 92s 2s/step - loss: 0.0168 - accuracy: 0.9942 - val_loss: 0.0167 - val_accuracy: 0.9915\n",
      "Epoch 18/20\n",
      "43/43 [==============================] - 92s 2s/step - loss: 0.0172 - accuracy: 0.9956 - val_loss: 0.0168 - val_accuracy: 0.9972\n",
      "Epoch 19/20\n",
      "43/43 [==============================] - 107s 2s/step - loss: 0.0092 - accuracy: 0.9985 - val_loss: 0.0161 - val_accuracy: 0.9915\n",
      "Epoch 20/20\n",
      "43/43 [==============================] - 97s 2s/step - loss: 0.0183 - accuracy: 0.9942 - val_loss: 0.0157 - val_accuracy: 0.9915\n",
      "[INFO] evaluating network...\n"
     ]
    }
   ],
   "source": [
    "# train the head of the network\n",
    "print(\"[INFO] training head...\")\n",
    "H = model.fit(\n",
    "\taug.flow(trainX, trainY, batch_size=BS),\n",
    "\tsteps_per_epoch=len(trainX) // BS,\n",
    "\tvalidation_data=(testX, testY),\n",
    "\tvalidation_steps=len(testX) // BS,\n",
    "\tepochs=EPOCHS)\n",
    "\n",
    "# make predictions on the testing set\n",
    "print(\"[INFO] evaluating network...\")\n",
    "predIdxs = model.predict(testX, batch_size=BS)\n"
   ]
  },
  {
   "cell_type": "code",
   "execution_count": 24,
   "id": "reserved-premium",
   "metadata": {},
   "outputs": [],
   "source": [
    "\n",
    "# for each image in the testing set we need to find the index of the\n",
    "# label with corresponding largest predicted probability\n",
    "predIdxs = np.argmax(predIdxs, axis=1)"
   ]
  },
  {
   "cell_type": "code",
   "execution_count": 25,
   "id": "secret-capability",
   "metadata": {},
   "outputs": [
    {
     "name": "stdout",
     "output_type": "stream",
     "text": [
      "              precision    recall  f1-score   support\n",
      "\n",
      "   with_mask       0.98      0.99      0.99       101\n",
      "without_mask       1.00      0.99      0.99       251\n",
      "\n",
      "    accuracy                           0.99       352\n",
      "   macro avg       0.99      0.99      0.99       352\n",
      "weighted avg       0.99      0.99      0.99       352\n",
      "\n"
     ]
    }
   ],
   "source": [
    "# show a nicely formatted classification report\n",
    "print(classification_report(testY.argmax(axis=1), predIdxs,\n",
    "\ttarget_names=lb.classes_))"
   ]
  },
  {
   "cell_type": "code",
   "execution_count": 26,
   "id": "neural-remark",
   "metadata": {},
   "outputs": [
    {
     "name": "stdout",
     "output_type": "stream",
     "text": [
      "[INFO] saving mask detector model...\n"
     ]
    }
   ],
   "source": [
    "# serialize the model to disk\n",
    "print(\"[INFO] saving mask detector model...\")\n",
    "model.save(\"mask_detector.model\", save_format=\"h5\")"
   ]
  },
  {
   "cell_type": "code",
   "execution_count": 29,
   "id": "bright-contrast",
   "metadata": {},
   "outputs": [
    {
     "data": {
      "image/png": "[encoded data removed]",
      "text/plain": [
       "<Figure size 432x288 with 1 Axes>"
      ]
     },
     "metadata": {},
     "output_type": "display_data"
    }
   ],
   "source": [
    "\n",
    "# plot the training loss and accuracy\n",
    "N = EPOCHS\n",
    "plt.style.use(\"ggplot\")\n",
    "plt.figure()\n",
    "plt.plot(np.arange(0, N), H.history[\"loss\"], label=\"train_loss\")\n",
    "plt.plot(np.arange(0, N), H.history[\"val_loss\"], label=\"val_loss\")\n",
    "plt.plot(np.arange(0, N), H.history[\"accuracy\"], label=\"train_acc\")\n",
    "plt.plot(np.arange(0, N), H.history[\"val_accuracy\"], label=\"val_acc\")\n",
    "plt.title(\"Training Loss and Accuracy\")\n",
    "plt.xlabel(\"Epoch #\")\n",
    "plt.ylabel(\"Loss/Accuracy\")\n",
    "plt.legend(loc=\"lower left\")\n",
    "plt.savefig(\"plot.png\")"
   ]
  },
  {
   "cell_type": "code",
   "execution_count": null,
   "id": "powerful-rubber",
   "metadata": {},
   "outputs": [],
   "source": []
  },
  {
   "cell_type": "code",
   "execution_count": null,
   "id": "designed-brave",
   "metadata": {},
   "outputs": [],
   "source": []
  }
 ],
 "metadata": {
  "kernelspec": {
   "display_name": "Python 3",
   "language": "python",
   "name": "python3"
  },
  "language_info": {
   "codemirror_mode": {
    "name": "ipython",
    "version": 3
   },
   "file_extension": ".py",
   "mimetype": "text/x-python",
   "name": "python",
   "nbconvert_exporter": "python",
   "pygments_lexer": "ipython3",
   "version": "3.8.8"
  }
 },
 "nbformat": 4,
 "nbformat_minor": 5
}
